{
 "cells": [
  {
   "cell_type": "markdown",
   "metadata": {},
   "source": [
    "# Face Detection"
   ]
  },
  {
   "cell_type": "code",
   "execution_count": 1,
   "metadata": {},
   "outputs": [
    {
     "name": "stdout",
     "output_type": "stream",
     "text": [
      "I found 1 face(s)\n"
     ]
    }
   ],
   "source": [
    "from __future__ import print_function\n",
    "import cv2\n",
    "\n",
    "class FaceDetector:\n",
    "    def __init__(self, faceCascadePath):\n",
    "        self.faceCascade = cv2.CascadeClassifier(faceCascadePath)\n",
    "        \n",
    "    def detect(self, image, scaleFactor = 1.1, minNeighbors = 5, minSize = (30, 30)):\n",
    "        rects = self.faceCascade.detectMultiScale(image, scaleFactor = scaleFactor, minNeighbors =minNeighbors, minSize = minSize, flags = cv2.CASCADE_SCALE_IMAGE)\n",
    "        return rects\n",
    "\n",
    "image_location = './images/obama.png'\n",
    "image = cv2.imread(image_location)\n",
    "gray = cv2.cvtColor(image, cv2.COLOR_BGR2GRAY)\n",
    "\n",
    "fd = FaceDetector(\"./cascades/haarcascade_frontalface_default.xml\")\n",
    "faceRects = fd.detect(gray, scaleFactor = 1.1, minNeighbors = 5, minSize = (30, 30))\n",
    "print(\"I found {} face(s)\".format(len(faceRects)))\n",
    "\n",
    "for (x, y, w, h) in faceRects:\n",
    "    cv2.rectangle(image, (x, y), (x + w, y + h), (0, 255, 0), 2)\n",
    "    \n",
    "cv2.imshow(\"Faces\", image)\n",
    "cv2.waitKey(0)\n",
    "cv2.destroyAllWindows()"
   ]
  },
  {
   "cell_type": "markdown",
   "metadata": {},
   "source": [
    "# Webcam Face Detection"
   ]
  },
  {
   "cell_type": "code",
   "execution_count": 2,
   "metadata": {},
   "outputs": [],
   "source": [
    "from __future__ import print_function\n",
    "import cv2\n",
    "\n",
    "class FaceDetector:\n",
    "    def __init__(self, faceCascadePath):\n",
    "        self.faceCascade = cv2.CascadeClassifier(faceCascadePath)\n",
    "        \n",
    "    def detect(self, image, scaleFactor = 1.1, minNeighbors = 5, minSize = (30, 30)):\n",
    "        rects = self.faceCascade.detectMultiScale(image, scaleFactor = scaleFactor, minNeighbors =minNeighbors, minSize = minSize, flags = cv2.CASCADE_SCALE_IMAGE)\n",
    "        return rects\n",
    "\n",
    "def resize(image, width = None, height = None, inter = cv2.INTER_AREA):\n",
    "    dim = None\n",
    "    (h, w) = image.shape[:2]\n",
    "    if width is None and height is None:\n",
    "        return image\n",
    "    if width is None:\n",
    "        r = height / float(h)\n",
    "        dim = (int(w *r), height)\n",
    "    else:\n",
    "        r = width / float(w)\n",
    "        dim = (width, int(h *r))\n",
    "    resized = cv2.resize(image, dim, interpolation = inter)\n",
    "    return resized\n",
    "\n",
    "fd = FaceDetector(\"./cascades/haarcascade_frontalface_default.xml\")\n",
    "camera = cv2.VideoCapture(0)\n",
    "\n",
    "while True:\n",
    "    (grabbed, frame) = camera.read()\n",
    "    if not grabbed:\n",
    "        break\n",
    "    frame = resize(frame, width = 300)\n",
    "    gray = cv2.cvtColor(frame, cv2.COLOR_BGR2GRAY)\n",
    "    faceRects = fd.detect(gray, scaleFactor = 1.1, minNeighbors = 5, minSize = (30, 30))\n",
    "    #print(\"I found {} face(s)\".format(len(faceRects)))\n",
    "    frameClone = frame.copy()\n",
    "    \n",
    "    for (fX, fY, fW, fH) in faceRects:\n",
    "        cv2.rectangle(frameClone, (fX, fY), (fX + fW, fY + fH), (0, 255, 0), 2)\n",
    "        \n",
    "    cv2.imshow(\"Face\", frameClone)\n",
    "    if cv2.waitKey(1) & 0xFF == ord(\"q\"):\n",
    "        break\n",
    "        \n",
    "camera.release()\n",
    "cv2.destroyAllWindows()\n",
    "    "
   ]
  },
  {
   "cell_type": "markdown",
   "metadata": {},
   "source": [
    "# Object Tracking in Video"
   ]
  },
  {
   "cell_type": "code",
   "execution_count": 3,
   "metadata": {},
   "outputs": [],
   "source": [
    "import numpy as np\n",
    "import cv2\n",
    "import time\n",
    "    \n",
    "blueLower = np.array([100, 67, 0], dtype = \"uint8\")\n",
    "blueUpper = np.array([255, 128, 50], dtype = \"uint8\")\n",
    "\n",
    "camera = cv2.VideoCapture('./video/iphonecase.mov')\n",
    "\n",
    "while True:\n",
    "    (grabbed, frame) = camera.read()\n",
    "    \n",
    "    if not grabbed:\n",
    "        break\n",
    "        \n",
    "    blue = cv2.inRange(frame, blueLower, blueUpper)\n",
    "    blue = cv2.GaussianBlur(blue, (3, 3), 0)\n",
    "    (_, cnts, _) = cv2.findContours(blue.copy(), cv2.RETR_EXTERNAL, cv2.CHAIN_APPROX_SIMPLE)\n",
    "    \n",
    "    if len(cnts) > 0:\n",
    "        cnt = sorted(cnts, key = cv2.contourArea, reverse = True)[0]# find the largest contour\n",
    "        \n",
    "        rect = np.int32(cv2.boxPoints(cv2.minAreaRect(cnt)))\n",
    "        cv2.drawContours(frame, [rect], -1, (0, 255, 0), 2)\n",
    "        \n",
    "    cv2.imshow(\"Tracking\", frame)\n",
    "    cv2.imshow(\"Binary\", blue)\n",
    "    \n",
    "    time.sleep(0.025)\n",
    "    \n",
    "    if cv2.waitKey(1) & 0xFF == ord(\"q\"):\n",
    "        break\n",
    "    \n",
    "camera.release()\n",
    "cv2.destroyAllWindows()\n"
   ]
  },
  {
   "cell_type": "markdown",
   "metadata": {},
   "source": [
    "# Eye Tracking"
   ]
  },
  {
   "cell_type": "code",
   "execution_count": 4,
   "metadata": {},
   "outputs": [],
   "source": [
    "import cv2\n",
    "\n",
    "class EyeTracker:\n",
    "    def __init__(self, faceCascadePath, eyeCascadePath):\n",
    "        self.faceCascade = cv2.CascadeClassifier(faceCascadePath)\n",
    "        self.eyeCascade = cv2.CascadeClassifier(eyeCascadePath)\n",
    "        \n",
    "    def track(self, image):\n",
    "        faceRects = self.faceCascade.detectMultiScale(image, scaleFactor = 1.1, minNeighbors = 5, minSize = (30, 30), flags = cv2.CASCADE_SCALE_IMAGE)\n",
    "        rects = []\n",
    "        for (fX, fY, fW, fH) in faceRects:\n",
    "            faceROI = image[fY:fY + fH, fX:fX + fW]\n",
    "            rects.append((fX, fY, fX + fW, fY + fH))\n",
    "            \n",
    "            eyeRects = self.eyeCascade.detectMultiScale(faceROI, scaleFactor = 1.1, minNeighbors = 10, minSize = (20, 20), flags = cv2.CASCADE_SCALE_IMAGE)\n",
    "            \n",
    "            for (eX, eY, eW, eH) in eyeRects:\n",
    "                rects.append((fX + eX, fY + eY, fX + eX + eW, fY + eY + eH))\n",
    "        return rects\n",
    "    \n",
    "et = EyeTracker(\"./cascades/haarcascade_frontalface_default.xml\", \"./cascades/haarcascade_eye.xml\")\n",
    "camera = cv2.VideoCapture(0)\n",
    "\n",
    "def resize(image, width = None, height = None, inter = cv2.INTER_AREA):\n",
    "    dim = None\n",
    "    (h, w) = image.shape[:2]\n",
    "    if width is None and height is None:\n",
    "        return image\n",
    "    if width is None:\n",
    "        r = height / float(h)\n",
    "        dim = (int(w *r), height)\n",
    "    else:\n",
    "        r = width / float(w)\n",
    "        dim = (width, int(h *r))\n",
    "    resized = cv2.resize(image, dim, interpolation = inter)\n",
    "    return resized\n",
    "\n",
    "while True:\n",
    "    (grabbed, frame) = camera.read()\n",
    "    \n",
    "    if not grabbed:\n",
    "        break\n",
    "    frame = resize(frame, width = 300)\n",
    "    gray = cv2.cvtColor(frame, cv2.COLOR_BGR2GRAY)\n",
    "    \n",
    "    rects = et.track(gray)\n",
    "    \n",
    "    for rect in rects:\n",
    "        cv2.rectangle(frame, (rect[0], rect[1]), (rect[2], rect[3]), (0, 255, 0), 2)\n",
    "        \n",
    "    cv2.imshow(\"Tracking\", frame)\n",
    "    \n",
    "    if cv2.waitKey(1) & 0xFF == ord(\"q\"):\n",
    "        break\n",
    "\n",
    "camera.release()\n",
    "cv2.destroyAllWindows()\n",
    "        "
   ]
  },
  {
   "cell_type": "markdown",
   "metadata": {},
   "source": [
    "# Handwriting Recognition with Hog"
   ]
  },
  {
   "cell_type": "code",
   "execution_count": null,
   "metadata": {},
   "outputs": [],
   "source": []
  }
 ],
 "metadata": {
  "kernelspec": {
   "display_name": "Python 3",
   "language": "python",
   "name": "python3"
  },
  "language_info": {
   "codemirror_mode": {
    "name": "ipython",
    "version": 3
   },
   "file_extension": ".py",
   "mimetype": "text/x-python",
   "name": "python",
   "nbconvert_exporter": "python",
   "pygments_lexer": "ipython3",
   "version": "3.6.3"
  }
 },
 "nbformat": 4,
 "nbformat_minor": 2
}
