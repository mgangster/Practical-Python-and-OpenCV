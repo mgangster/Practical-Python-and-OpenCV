{
 "cells": [
  {
   "cell_type": "markdown",
   "metadata": {},
   "source": [
    "# Image Basics\n",
    "The following example shows how to read and show an image."
   ]
  },
  {
   "cell_type": "code",
   "execution_count": null,
   "metadata": {
    "scrolled": true
   },
   "outputs": [],
   "source": [
    "from __future__ import print_function\n",
    "import cv2\n",
    "\n",
    "image_location = './images/trex.png'\n",
    "image = cv2.imread(image_location)\n",
    "print(\"width: {} pixels, height: {} piexles, channels: {}\".format(image.shape[1], image.shape[0], image.shape[2]))\n",
    "\n",
    "cv2.imshow(\"Image\", image)\n",
    "cv2.waitKey(0)\n",
    "\n",
    "corner = image[50:300,400:700]\n",
    "cv2.imshow(\"Corner\", corner)\n",
    "cv2.waitKey(0)\n",
    "cv2.destroyAllWindows()"
   ]
  },
  {
   "cell_type": "markdown",
   "metadata": {},
   "source": [
    "# Drawing"
   ]
  },
  {
   "cell_type": "markdown",
   "metadata": {},
   "source": [
    "### (1) Lines and Rectangles"
   ]
  },
  {
   "cell_type": "code",
   "execution_count": null,
   "metadata": {},
   "outputs": [],
   "source": [
    "from __future__ import print_function\n",
    "import cv2\n",
    "import numpy as np\n",
    "\n",
    "canvas = np.zeros((300, 300, 3), dtype = \"uint8\")\n",
    "\n",
    "green = (0, 255, 0)\n",
    "cv2.line(canvas, (0, 0), (300, 300), green)\n",
    "\n",
    "red = (0, 0, 255)\n",
    "cv2.line(canvas, (100, 0), (100, 300), red, 3)\n",
    "\n",
    "cv2.rectangle(canvas, (10, 10), (60, 60), green)\n",
    "\n",
    "cv2.rectangle(canvas, (50, 200), (200, 225), red, 5)\n",
    "\n",
    "blue = (255, 0, 0)\n",
    "cv2.rectangle(canvas, (200, 50), (225, 125), blue, -1)\n",
    "\n",
    "cv2.imshow(\"Canvas\", canvas)\n",
    "cv2.waitKey(0)\n",
    "cv2.destroyAllWindows()"
   ]
  },
  {
   "cell_type": "markdown",
   "metadata": {},
   "source": [
    "### (2) Circles"
   ]
  },
  {
   "cell_type": "code",
   "execution_count": null,
   "metadata": {},
   "outputs": [],
   "source": [
    "from __future__ import print_function\n",
    "import cv2\n",
    "import numpy as np\n",
    "\n",
    "canvas = np.zeros((300, 300, 3), dtype = \"uint8\")\n",
    "(centerX, centerY) = (canvas.shape[1] //2, canvas.shape[0] //2)\n",
    "white = (255, 255, 255)\n",
    "\n",
    "for r in range(0, 175, 25):\n",
    "    cv2.circle(canvas, (centerX, centerY), r, white)\n",
    "cv2.imshow(\"Canvas\", canvas)\n",
    "cv2.waitKey(0)\n",
    "\n",
    "for i in range(0, 25):\n",
    "    radius = np.random.randint(5, high = 200)\n",
    "    color = np.random.randint(0, high = 256, size =(3,)).tolist()\n",
    "    pt = np.random.randint(0, high = 300, size = (2,))\n",
    "    cv2.circle(canvas, tuple(pt), radius, color, -1)\n",
    "    \n",
    "cv2.imshow(\"Canvas\", canvas)\n",
    "cv2.waitKey(0)\n",
    "cv2.destroyAllWindows()"
   ]
  },
  {
   "cell_type": "markdown",
   "metadata": {},
   "source": [
    "# Image Processing"
   ]
  },
  {
   "cell_type": "markdown",
   "metadata": {},
   "source": [
    "### (1) Image Transformations\n",
    "The following example implements basic image transformations, such as translation, rotation, resizing, flipping, etc."
   ]
  },
  {
   "cell_type": "code",
   "execution_count": null,
   "metadata": {
    "scrolled": true
   },
   "outputs": [],
   "source": [
    "import cv2\n",
    "import numpy as np\n",
    "\n",
    "def translate(image, x, y):\n",
    "    M = np.float32([[1, 0, x], [0, 1, y]])\n",
    "    shifted = cv2.warpAffine(image, M, (image.shape[1], image.shape[0]))\n",
    "    return shifted\n",
    "\n",
    "def rotate(image, angle, center = None, scale = 1.0):\n",
    "    (h, w) = image.shape[:2]\n",
    "    if center is None:\n",
    "        center = (w/2, h/2)\n",
    "    M = cv2.getRotationMatrix2D(center, angle, scale)\n",
    "    rotated = cv2.warpAffine(image, M, (w, h))\n",
    "    return rotated\n",
    "\n",
    "def resize(image, width = None, height = None, inter = cv2.INTER_AREA):\n",
    "    dim = None\n",
    "    (h, w) = image.shape[:2]\n",
    "    if width is None and height is None:\n",
    "        return image\n",
    "    if width is None:\n",
    "        r = height / float(h)\n",
    "        dim = (int(w *r), height)\n",
    "    else:\n",
    "        r = width / float(w)\n",
    "        dim = (width, int(h *r))\n",
    "    resized = cv2.resize(image, dim, interpolation = inter)\n",
    "    return resized\n",
    "    \n",
    "image_location = './images/trex.png'\n",
    "image = cv2.imread(image_location)\n",
    "cv2.imshow(\"Image\", image)\n",
    "cv2.waitKey(0)\n",
    "\n",
    "shifted = translate(image, 50, 100)\n",
    "cv2.imshow(\"Shifted\", shifted)\n",
    "cv2.waitKey(0)\n",
    "\n",
    "rotated = rotate(image, 45)\n",
    "cv2.imshow(\"Rotated\", rotated)\n",
    "cv2.waitKey(0)\n",
    "\n",
    "resized = resize(image, width = 1000)\n",
    "cv2.imshow(\"Resized\", resized)\n",
    "cv2.waitKey(0)\n",
    "cv2.destroyAllWindows()"
   ]
  },
  {
   "cell_type": "code",
   "execution_count": null,
   "metadata": {},
   "outputs": [],
   "source": [
    "import cv2\n",
    "import numpy as np\n",
    "\n",
    "image_location = './images/trex.png'\n",
    "image = cv2.imread(image_location)\n",
    "cv2.imshow(\"Original\", image)\n",
    "cv2.waitKey(0)\n",
    "\n",
    "flipped_hori = cv2.flip(image, 1)\n",
    "cv2.imshow(\"Flipped Horizontally\", flipped_hori)\n",
    "cv2.waitKey(0)\n",
    "\n",
    "flipped_vert = cv2.flip(image, 0)\n",
    "cv2.imshow(\"Flipped Vertically\", flipped_vert)\n",
    "cv2.waitKey(0)\n",
    "\n",
    "flipped = cv2.flip(image, -1)\n",
    "cv2.imshow(\"Flipped Horizontally & Vertically\", flipped)\n",
    "cv2.waitKey(0)\n",
    "cv2.destroyAllWindows()"
   ]
  },
  {
   "cell_type": "markdown",
   "metadata": {},
   "source": [
    "### (2) Image Arithmetic"
   ]
  },
  {
   "cell_type": "code",
   "execution_count": null,
   "metadata": {
    "scrolled": false
   },
   "outputs": [],
   "source": [
    "import cv2\n",
    "import numpy as np\n",
    "\n",
    "image_location = './images/trex.png'\n",
    "image = cv2.imread(image_location)\n",
    "cv2.imshow(\"Original\", image)\n",
    "cv2.waitKey(0)\n",
    "\n",
    "print(\"max of 255: {}\".format(cv2.add(np.uint8([200]), np.uint8([100]))))\n",
    "print(\"min of 0: {}\".format(cv2.subtract(np.uint8([50]), np.uint8([100]))))\n",
    "print(\"wrap around: {}\".format(np.uint8([200]) + np.uint8([100])))\n",
    "print(\"wrap around: {}\".format(np.uint8([50]) - np.uint8([100])))\n",
    "\n",
    "M = np.ones(image.shape, dtype = \"uint8\") * 50\n",
    "added = cv2.add(image, M)\n",
    "cv2.imshow(\"Original\", added)\n",
    "cv2.waitKey(0)\n",
    "\n",
    "\n",
    "M = np.ones(image.shape, dtype = \"uint8\") * 100\n",
    "subtracted = cv2.subtract(image, M)\n",
    "cv2.imshow(\"Subtracted\", subtracted)\n",
    "cv2.waitKey(0)\n",
    "cv2.destroyAllWindows()"
   ]
  },
  {
   "cell_type": "markdown",
   "metadata": {},
   "source": [
    "### (3) Bitwise Operations\n",
    "We will review four bitwise operations: AND, OR, XOR, and NOT."
   ]
  },
  {
   "cell_type": "code",
   "execution_count": null,
   "metadata": {},
   "outputs": [],
   "source": [
    "import cv2\n",
    "import numpy as np\n",
    "\n",
    "rectangle = np.zeros((300, 300), dtype = \"uint8\")\n",
    "cv2.rectangle(rectangle, (25, 25), (275, 275), 255, -1)\n",
    "cv2.imshow(\"Rectangle\", rectangle)\n",
    "cv2.waitKey(0)\n",
    "\n",
    "circle = np.zeros((300, 300), dtype = \"uint8\")\n",
    "cv2.circle(circle, (150, 150), 150, 255, -1)\n",
    "cv2.imshow(\"Circle\", circle)\n",
    "cv2.waitKey(0)\n",
    "\n",
    "bitwiseAnd = cv2.bitwise_and(rectangle, circle)\n",
    "cv2.imshow(\"AND\", bitwiseAnd)\n",
    "cv2.waitKey(0)\n",
    "\n",
    "bitwiseOr = cv2.bitwise_or(rectangle, circle)\n",
    "cv2.imshow(\"OR\", bitwiseOr)\n",
    "cv2.waitKey(0)\n",
    "\n",
    "bitwiseXor = cv2.bitwise_xor(rectangle, circle)\n",
    "cv2.imshow(\"XOR\", bitwiseXor)\n",
    "cv2.waitKey(0)\n",
    "\n",
    "bitwiseNot = cv2.bitwise_not(circle)\n",
    "cv2.imshow(\"NOT\", bitwiseNot)\n",
    "cv2.waitKey(0)\n",
    "cv2.destroyAllWindows()"
   ]
  },
  {
   "cell_type": "markdown",
   "metadata": {},
   "source": [
    "### (4) Masking\n",
    "Using a mask allows us to focus only on the portions of the image that interests us."
   ]
  },
  {
   "cell_type": "code",
   "execution_count": null,
   "metadata": {},
   "outputs": [],
   "source": [
    "import cv2\n",
    "import numpy as np\n",
    "\n",
    "image_location = './images/beach.png'\n",
    "image = cv2.imread(image_location)\n",
    "cv2.imshow(\"Original\", image)\n",
    "cv2.waitKey(0)\n",
    "\n",
    "mask = np.zeros(image.shape[:2], dtype = \"uint8\")\n",
    "(cX, cY) = (image.shape[1] // 2, image.shape[0] //2)\n",
    "cv2.rectangle(mask, (cX - 75, cY - 75), (cX + 75, cY + 75), 255, -1)\n",
    "cv2.imshow(\"Mask\", mask)\n",
    "\n",
    "masked = cv2.bitwise_and(image, image, mask = mask)\n",
    "cv2.imshow(\"Masked\", masked)\n",
    "cv2.waitKey(0)\n",
    "\n",
    "mask = np.zeros(image.shape[:2], dtype = \"uint8\")\n",
    "cv2.circle(mask, (cX, cY), 100, 255, -1)\n",
    "masked = cv2.bitwise_and(image, image, mask = mask)\n",
    "cv2.imshow(\"Mask\", mask)\n",
    "cv2.imshow(\"Masked\", masked)\n",
    "cv2.waitKey(0)\n",
    "cv2.destroyAllWindows()"
   ]
  },
  {
   "cell_type": "markdown",
   "metadata": {},
   "source": [
    "### (5) Splitting and Merging Channels"
   ]
  },
  {
   "cell_type": "code",
   "execution_count": null,
   "metadata": {},
   "outputs": [],
   "source": [
    "import cv2\n",
    "import numpy as np\n",
    "\n",
    "image_location = './images/beach.png'\n",
    "image = cv2.imread(image_location)\n",
    "(B, G, R) = cv2.split(image)\n",
    "\n",
    "cv2.imshow(\"Red\", R)\n",
    "cv2.imshow(\"Green\", G)\n",
    "cv2.imshow(\"Blue\", B)\n",
    "cv2.waitKey(0)\n",
    "\n",
    "merged = cv2.merge([B, G, R])\n",
    "cv2.imshow(\"Merged\", merged)\n",
    "cv2.waitKey(0)\n",
    "cv2.destroyAllWindows()"
   ]
  },
  {
   "cell_type": "markdown",
   "metadata": {},
   "source": [
    "### (6) Color Spaces\n",
    "There are many other color spaces that we can utilize except the RGB color space.\n",
    "\n",
    "The Hue-Saturation-Value (HSV) color space is more similar to how humans think and conceive of color."
   ]
  },
  {
   "cell_type": "code",
   "execution_count": null,
   "metadata": {},
   "outputs": [],
   "source": [
    "import cv2\n",
    "import numpy as np\n",
    "\n",
    "image_location = './images/beach.png'\n",
    "image = cv2.imread(image_location)\n",
    "cv2.imshow(\"Original\", image)\n",
    "\n",
    "gray = cv2.cvtColor(image, cv2.COLOR_BGR2GRAY)\n",
    "cv2.imshow(\"Gray\", gray)\n",
    "\n",
    "\n",
    "hsv = cv2.cvtColor(image, cv2.COLOR_BGR2HSV)\n",
    "cv2.imshow(\"HSV\", hsv)\n",
    "\n",
    "lab = cv2.cvtColor(image, cv2.COLOR_BGR2LAB)\n",
    "cv2.imshow(\"Lab\", lab)\n",
    "cv2.waitKey(0)\n",
    "cv2.destroyAllWindows()"
   ]
  },
  {
   "cell_type": "markdown",
   "metadata": {},
   "source": [
    "# Histograms\n",
    "A histogram represents the distribution of pixel intensities in an image"
   ]
  },
  {
   "cell_type": "markdown",
   "metadata": {},
   "source": [
    "### (1) Grayscale Histograms"
   ]
  },
  {
   "cell_type": "code",
   "execution_count": 10,
   "metadata": {},
   "outputs": [
    {
     "data": {
      "image/png": "[encoded data removed]",
      "text/plain": [
       "<matplotlib.figure.Figure at 0x4cadb00>"
      ]
     },
     "metadata": {},
     "output_type": "display_data"
    }
   ],
   "source": [
    "from matplotlib import pyplot as plt\n",
    "import cv2\n",
    "import numpy as np\n",
    "%matplotlib inline\n",
    "\n",
    "image_location = './images/beach.png'\n",
    "image = cv2.imread(image_location)\n",
    "image = cv2.cvtColor(image, cv2.COLOR_BGR2GRAY)\n",
    "cv2.imshow(\"Original\", image)\n",
    "\n",
    "hist = cv2.calcHist([image], [0], None, [256], [0, 256])\n",
    "plt.title(\"Gray Hist\")\n",
    "plt.xlabel(\"Bins\")\n",
    "plt.ylabel(\"# of Pixels\")\n",
    "plt.plot(hist)\n",
    "plt.xlim([0, 256])\n",
    "plt.show()\n",
    "\n",
    "cv2.waitKey(0)\n",
    "cv2.destroyAllWindows()"
   ]
  },
  {
   "cell_type": "markdown",
   "metadata": {},
   "source": [
    "### (2) Color Histograms"
   ]
  },
  {
   "cell_type": "code",
   "execution_count": null,
   "metadata": {
    "scrolled": true
   },
   "outputs": [],
   "source": [
    "from matplotlib import pyplot as plt\n",
    "import cv2\n",
    "import numpy as np\n",
    "%matplotlib inline\n",
    "\n",
    "#fig = plt.figure(figsize=(10, 4))\n",
    "\n",
    "image_location = './images/beach.png'\n",
    "image = cv2.imread(image_location)\n",
    "cv2.imshow(\"Original\", image)\n",
    "cv2.waitKey(0)\n",
    "\n",
    "\n",
    "chans = cv2.split(image)\n",
    "colors = (\"b\", \"g\", \"r\")\n",
    "plt.title(\"'Flattened' Color Histogram\")\n",
    "plt.xlabel(\"Bins\")\n",
    "plt.ylabel(\"# of Pixels\")\n",
    "\n",
    "for (chan, color) in zip(chans, colors):\n",
    "    hist = cv2.calcHist([chan], [0], None, [256], [0, 256])\n",
    "    plt.plot(hist, color =color)\n",
    "    plt.xlim([0, 256])\n",
    "    \n",
    "fig = plt.figure(figsize=(10, 8))\n",
    "ax = fig.add_subplot(131)\n",
    "hist = cv2.calcHist([chans[1], chans[0]], [0, 1], None, [32, 32], [0, 256, 0, 256])\n",
    "p = ax.imshow(hist, interpolation = \"nearest\")\n",
    "ax.set_title(\"2D Color Histogram for G and B\")\n",
    "plt.colorbar(p)\n",
    "\n",
    "ax = fig.add_subplot(132)\n",
    "hist = cv2.calcHist([chans[1], chans[2]], [0, 1], None, [32, 32], [0, 256, 0, 256])\n",
    "p = ax.imshow(hist, interpolation = \"nearest\")\n",
    "ax.set_title(\"2D Color Histogram for G and R\")\n",
    "plt.colorbar(p)\n",
    "\n",
    "ax = fig.add_subplot(133)\n",
    "hist = cv2.calcHist([chans[0], chans[2]], [0, 1], None, [32, 32], [0, 256, 0, 256])\n",
    "p = ax.imshow(hist, interpolation = \"nearest\")\n",
    "ax.set_title(\"2D Color Histogram for B and R\")\n",
    "plt.colorbar(p)\n",
    "\n",
    "hist = cv2.calcHist([image], [0, 1, 2], None, [8, 8, 8], [0, 256, 0, 256, 0, 256])\n",
    "print(\"3D histogram shape: {}, with {} values\".format(hist.shape, hist.flatten().shape[0]))\n",
    "\n",
    "plt.show()\n",
    "cv2.destroyAllWindows()"
   ]
  },
  {
   "cell_type": "markdown",
   "metadata": {},
   "source": [
    "### (3) Histogram Equalization\n",
    "Histogram equalization improves the contrast of an image by \"stretching\" the distribution of pixels. This method is useful when an image contains forgrounds and backgrounds that are both dark and both light. It is normally useful when enhancing the contrast of medical or satellite images."
   ]
  },
  {
   "cell_type": "code",
   "execution_count": null,
   "metadata": {},
   "outputs": [],
   "source": [
    "import cv2\n",
    "import numpy as np\n",
    "\n",
    "image_location = './images/beach.png'\n",
    "image = cv2.imread(image_location)\n",
    "image = cv2.cvtColor(image, cv2.COLOR_RGB2GRAY)\n",
    "\n",
    "eq = cv2.equalizeHist(image)\n",
    "\n",
    "cv2.imshow(\"Histogram Equalization\", np.hstack([image, eq]))\n",
    "\n",
    "cv2.waitKey(0)\n",
    "cv2.destroyAllWindows()"
   ]
  },
  {
   "cell_type": "markdown",
   "metadata": {},
   "source": [
    "### (4) Histograms and Masks\n",
    "To construct a mask and compute color histograms for the masked region only."
   ]
  },
  {
   "cell_type": "code",
   "execution_count": 3,
   "metadata": {},
   "outputs": [
    {
     "data": {
      "image/png": "[encoded data removed]",
      "text/plain": [
       "<matplotlib.figure.Figure at 0x4955b70>"
      ]
     },
     "metadata": {},
     "output_type": "display_data"
    },
    {
     "data": {
      "image/png": "[encoded data removed]",
      "text/plain": [
       "<matplotlib.figure.Figure at 0x7f746a0>"
      ]
     },
     "metadata": {},
     "output_type": "display_data"
    }
   ],
   "source": [
    "import cv2\n",
    "import matplotlib.pyplot as plt\n",
    "import numpy as np\n",
    "%matplotlib inline\n",
    "\n",
    "def plot_histogram(image, title, mask = None):\n",
    "    chans = cv2.split(image)\n",
    "    colors = (\"b\", \"g\", \"r\")\n",
    "    plt.figure()\n",
    "    plt.title(title)\n",
    "    plt.xlabel(\"Bins\")\n",
    "    plt.ylabel(\"# of Pixels\")\n",
    "    \n",
    "    for (chans, color) in zip(chans, colors):\n",
    "        hist = cv2.calcHist([chans], [0], mask, [256], [0, 256])\n",
    "        plt.plot(hist, color = color)\n",
    "        plt.xlim([0, 256])\n",
    "\n",
    "image_location = './images/beach.png'\n",
    "image = cv2.imread(image_location)\n",
    "cv2.imshow(\"Original\", image)\n",
    "plot_histogram(image, \"Histogram for Original Image\")\n",
    "\n",
    "mask = np.zeros(image.shape[:2], dtype = \"uint8\")\n",
    "cv2.rectangle(mask, (15, 15), (130, 130), 255, -1)\n",
    "cv2.imshow(\"Mask\", mask)\n",
    "\n",
    "masked = cv2.bitwise_and(image, image, mask = mask)\n",
    "cv2.imshow(\"Applying the Mask\", masked)\n",
    "cv2.waitKey(0)\n",
    "\n",
    "plot_histogram(image, \"Histogram for Masked Image\", mask = mask)\n",
    "plt.show()\n",
    "cv2.destroyAllWindows()"
   ]
  },
  {
   "cell_type": "markdown",
   "metadata": {},
   "source": [
    "# Smoothing and Blurring\n",
    "Although unwanted in our photographs, blurring is actually quite helpful when performing image processing tasks. In fact, many image processing and computer vision functions, such as thresholding and edge detection, perform better if the image if first smoothed or blurred."
   ]
  },
  {
   "cell_type": "code",
   "execution_count": 5,
   "metadata": {},
   "outputs": [],
   "source": [
    "import cv2\n",
    "import matplotlib.pyplot as plt\n",
    "import numpy as np\n",
    "%matplotlib inline\n",
    "\n",
    "image_location = './images/trex.png'\n",
    "image = cv2.imread(image_location)\n",
    "cv2.imshow(\"Original\", image)\n",
    "\n",
    "blurred = np.hstack([cv2.blur(image, (3, 3)), cv2.blur(image, (5, 5)), cv2.blur(image, (7, 7))])\n",
    "cv2.imshow(\"Averaged\", blurred)\n",
    "cv2.waitKey(0)\n",
    "\n",
    "blurred = np.hstack([cv2.GaussianBlur(image, (3, 3), 0), cv2.GaussianBlur(image, (5, 5), 0), cv2.GaussianBlur(image, (11, 11), 0)])\n",
    "cv2.imshow(\"Gaussian\", blurred)\n",
    "cv2.waitKey(0)\n",
    "\n",
    "blurred = np.hstack([cv2.medianBlur(image, 3), cv2.medianBlur(image, 5), cv2.medianBlur(image, 11)])\n",
    "cv2.imshow(\"Median\", blurred)\n",
    "cv2.waitKey(0)\n",
    "\n",
    "blurred = np.hstack([cv2.bilateralFilter(image, 5, 21, 21), cv2.bilateralFilter(image, 7, 31, 31), cv2.bilateralFilter(image, 9, 41, 41)])\n",
    "cv2.imshow(\"Bilateral\", blurred)\n",
    "cv2.waitKey(0)\n",
    "\n",
    "cv2.destroyAllWindows()"
   ]
  },
  {
   "cell_type": "markdown",
   "metadata": {},
   "source": [
    "# Thresholding\n",
    "Thresholding is the binarization of an image. Normally, we use thresholding to focus on objects or areas of particular interest in an image."
   ]
  },
  {
   "cell_type": "markdown",
   "metadata": {},
   "source": [
    "### (1) Simple Thresholding\n",
    "In the following example, any pixel value that is greater than 155 is set to 255, any value that is less than 155 is set to zero."
   ]
  },
  {
   "cell_type": "code",
   "execution_count": 6,
   "metadata": {
    "scrolled": true
   },
   "outputs": [],
   "source": [
    "import cv2\n",
    "import numpy as np\n",
    "\n",
    "image_location = './images/coins.png'\n",
    "image = cv2.imread(image_location)\n",
    "image = cv2.cvtColor(image, cv2.COLOR_BGR2GRAY)\n",
    "blurred = cv2.GaussianBlur(image, (5, 5), 0)\n",
    "cv2.imshow(\"Image\", image)\n",
    "\n",
    "\n",
    "(T, thresh) = cv2.threshold(blurred, 155, 255, cv2.THRESH_BINARY)\n",
    "cv2.imshow(\"Threshold Binary\", thresh)\n",
    "\n",
    "\n",
    "(T, threshInv) = cv2.threshold(blurred, 155, 255, cv2.THRESH_BINARY_INV)\n",
    "cv2.imshow(\"Threshold Binary Inverse\", threshInv)\n",
    "\n",
    "masked = cv2.bitwise_and(image, image, mask = threshInv)\n",
    "cv2.imshow(\"Coins\", masked)\n",
    "cv2.waitKey(0)\n",
    "\n",
    "cv2.destroyAllWindows()"
   ]
  },
  {
   "cell_type": "markdown",
   "metadata": {},
   "source": [
    "### (2) Adaptive Thresholding\n",
    "This method considers small neighbors of pixels and then finds an optimal threshold value for each neighbor. "
   ]
  },
  {
   "cell_type": "code",
   "execution_count": 9,
   "metadata": {},
   "outputs": [],
   "source": [
    "import cv2\n",
    "import numpy as np\n",
    "\n",
    "image_location = './images/coins.png'\n",
    "image = cv2.imread(image_location)\n",
    "image = cv2.cvtColor(image, cv2.COLOR_BGR2GRAY)\n",
    "blurred = cv2.GaussianBlur(image, (5, 5), 0)\n",
    "cv2.imshow(\"Image\", image)\n",
    "\n",
    "thresh = cv2.adaptiveThreshold(blurred, 255, cv2.ADAPTIVE_THRESH_MEAN_C, cv2.THRESH_BINARY_INV, 11, 4)\n",
    "cv2.imshow(\"Mean Thresh\", thresh)\n",
    "\n",
    "thresh = cv2.adaptiveThreshold(blurred, 255, cv2.ADAPTIVE_THRESH_GAUSSIAN_C, cv2.THRESH_BINARY_INV, 15, 3)\n",
    "cv2.imshow(\"Gaussian Thresh\", thresh)\n",
    "cv2.waitKey(0)\n",
    "\n",
    "cv2.destroyAllWindows()"
   ]
  },
  {
   "cell_type": "markdown",
   "metadata": {},
   "source": [
    "### (3) Otsu and Riddler-Calvard\n",
    "Just another way to automatically compute the threshold value."
   ]
  },
  {
   "cell_type": "code",
   "execution_count": 11,
   "metadata": {},
   "outputs": [
    {
     "name": "stdout",
     "output_type": "stream",
     "text": [
      "Otsu's threshold: 137\n",
      "Riddler-Calvard threshold: 137.799281092233\n"
     ]
    }
   ],
   "source": [
    "import cv2\n",
    "import numpy as np\n",
    "import mahotas\n",
    "\n",
    "image_location = './images/coins.png'\n",
    "image = cv2.imread(image_location)\n",
    "image = cv2.cvtColor(image, cv2.COLOR_BGR2GRAY)\n",
    "blurred = cv2.GaussianBlur(image, (5, 5), 0)\n",
    "cv2.imshow(\"Image\", image)\n",
    "cv2.waitKey(0)\n",
    "\n",
    "T = mahotas.thresholding.otsu(blurred)\n",
    "print(\"Otsu's threshold: {}\".format(T))\n",
    "thresh = image.copy()\n",
    "thresh[thresh > T] = 255\n",
    "thresh[thresh < 255] = 0\n",
    "thresh = cv2.bitwise_not(thresh)\n",
    "cv2.imshow(\"Otsu\", thresh)\n",
    "cv2.waitKey(0)\n",
    "\n",
    "T = mahotas.thresholding.rc(blurred)\n",
    "print(\"Riddler-Calvard threshold: {}\".format(T))\n",
    "thresh = image.copy()\n",
    "thresh[thresh > T] = 255\n",
    "thresh[thresh < 255] = 0\n",
    "thresh = cv2.bitwise_not(thresh)\n",
    "cv2.imshow(\"Riddler-Calvard\", thresh)\n",
    "cv2.waitKey(0)\n",
    "\n",
    "cv2.destroyAllWindows()"
   ]
  },
  {
   "cell_type": "markdown",
   "metadata": {},
   "source": [
    "# Gradients and Edge Detection\n",
    "Edge detection embodies mathematical methods to find points in an image where the brighness of pixel intensities changes distinctly."
   ]
  },
  {
   "cell_type": "markdown",
   "metadata": {},
   "source": [
    "### (1) Laplacian and Sobel\n",
    "\n",
    "First use Laplacian method to compute the gradient magnitude image by calling the `cv2.Laplacian` function.Then, use `cv2.Sobel` to find the edges."
   ]
  },
  {
   "cell_type": "code",
   "execution_count": 3,
   "metadata": {},
   "outputs": [],
   "source": [
    "import cv2\n",
    "import numpy as np\n",
    "\n",
    "image_location = './images/coins.png'\n",
    "image = cv2.imread(image_location)\n",
    "image = cv2.cvtColor(image, cv2.COLOR_BGR2GRAY)\n",
    "cv2.imshow(\"original\", image)\n",
    "\n",
    "lap = cv2.Laplacian(image, cv2.CV_64F)\n",
    "lap = np.uint8(np.absolute(lap))\n",
    "cv2.imshow(\"Laplacian\", lap)\n",
    "\n",
    "sobelX = cv2.Sobel(image, cv2.CV_64F, 1, 0)\n",
    "sobelY = cv2.Sobel(image, cv2.CV_64F, 0, 1)\n",
    "\n",
    "sobelX = np.uint8(np.absolute(sobelX))\n",
    "sobelY = np.uint8(np.absolute(sobelY))\n",
    "\n",
    "sobelCombined = cv2.bitwise_or(sobelX, sobelY)\n",
    "\n",
    "cv2.imshow(\"Sobel X\", sobelX)\n",
    "cv2.imshow(\"Sobel Y\", sobelY)\n",
    "cv2.imshow(\"Sobel Combined\", sobelCombined)\n",
    "cv2.waitKey(0)\n",
    "\n",
    "cv2.destroyAllWindows()"
   ]
  },
  {
   "cell_type": "markdown",
   "metadata": {},
   "source": [
    "### (2) Canny Edge Detector"
   ]
  },
  {
   "cell_type": "code",
   "execution_count": 9,
   "metadata": {},
   "outputs": [],
   "source": [
    "import cv2\n",
    "import numpy as np\n",
    "\n",
    "image_location = './images/coins.png'\n",
    "image = cv2.imread(image_location)\n",
    "image = cv2.cvtColor(image, cv2.COLOR_BGR2GRAY)\n",
    "image = cv2.GaussianBlur(image, (11, 11), 0)\n",
    "cv2.imshow(\"Blurred\", image)\n",
    "\n",
    "canny = cv2.Canny(image, 30, 150)\n",
    "cv2.imshow(\"Canny\", canny)\n",
    "cv2.waitKey(0)\n",
    "\n",
    "cv2.destroyAllWindows()"
   ]
  },
  {
   "cell_type": "markdown",
   "metadata": {},
   "source": [
    "# Contours\n",
    "In order to find contours in an image, you need to first obtain a binarization of the image, using either edge detection methods or thresholding.\n",
    "\n",
    "In the following example, we'll use the Candy edge detector to find the ourlines of the coins, and then find the actual contours of the coins."
   ]
  },
  {
   "cell_type": "code",
   "execution_count": 1,
   "metadata": {},
   "outputs": [
    {
     "name": "stdout",
     "output_type": "stream",
     "text": [
      "I count 9 coins in this image\n",
      "Coin #1\n",
      "Coin #2\n",
      "Coin #3\n",
      "Coin #4\n",
      "Coin #5\n",
      "Coin #6\n",
      "Coin #7\n",
      "Coin #8\n",
      "Coin #9\n"
     ]
    }
   ],
   "source": [
    "import cv2\n",
    "import numpy as np\n",
    "\n",
    "image_location = './images/coins.png'\n",
    "image = cv2.imread(image_location)\n",
    "gray = cv2.cvtColor(image, cv2.COLOR_BGR2GRAY)\n",
    "blurred = cv2.GaussianBlur(gray, (11, 11), 0)\n",
    "cv2.imshow(\"Image\", image)\n",
    "\n",
    "edged = cv2.Canny(blurred, 30, 150)\n",
    "cv2.imshow(\"Edges\", edged)\n",
    "\n",
    "(_, cnts, _) = cv2.findContours(edged.copy(), cv2.RETR_EXTERNAL, cv2.CHAIN_APPROX_SIMPLE)\n",
    "print(\"I count {} coins in this image\".format(len(cnts)))\n",
    "\n",
    "coins = image.copy()\n",
    "cv2.drawContours(coins, cnts, -1, (0, 255, 0), 2)\n",
    "cv2.imshow(\"Coins\", coins)\n",
    "cv2.waitKey(0)\n",
    "\n",
    "for (i, c) in enumerate(cnts):\n",
    "    (x, y, w, h) = cv2.boundingRect(c)\n",
    "    print(\"Coin #{}\".format(i + 1))\n",
    "    coin = image[y:y + h, x:x + w]\n",
    "    cv2.imshow(\"Coin\", coin)\n",
    "    mask = np.zeros(image.shape[:2], dtype = \"uint8\")\n",
    "    ((centerX, centerY), radius) = cv2.minEnclosingCircle(c)\n",
    "    cv2.circle(mask, (int(centerX), int(centerY)), int(radius), 255, -1)\n",
    "    mask = mask[y:y + h, x:x + w]\n",
    "    masked = cv2.bitwise_and(coin, coin, mask = mask)\n",
    "    cv2.imshow(\"Masked Coin\", masked)\n",
    "    cv2.waitKey(0)\n",
    "\n",
    "cv2.destroyAllWindows()"
   ]
  },
  {
   "cell_type": "code",
   "execution_count": null,
   "metadata": {},
   "outputs": [],
   "source": []
  }
 ],
 "metadata": {
  "kernelspec": {
   "display_name": "Python 3",
   "language": "python",
   "name": "python3"
  },
  "language_info": {
   "codemirror_mode": {
    "name": "ipython",
    "version": 3
   },
   "file_extension": ".py",
   "mimetype": "text/x-python",
   "name": "python",
   "nbconvert_exporter": "python",
   "pygments_lexer": "ipython3",
   "version": "3.6.3"
  }
 },
 "nbformat": 4,
 "nbformat_minor": 2
}
